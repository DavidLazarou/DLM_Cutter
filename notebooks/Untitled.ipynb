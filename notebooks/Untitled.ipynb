{
 "cells": [
  {
   "metadata": {
    "ExecuteTime": {
     "end_time": "2025-03-30T00:25:41.301050Z",
     "start_time": "2025-03-30T00:25:41.263661Z"
    }
   },
   "cell_type": "code",
   "source": [
    "import pandas as pd\n",
    "import os\n",
    "\n",
    "DATA_DIR = \"/data/zacks\"\n",
    "FILENAME = \"zacks_custom_screen_2025-03-29.csv\"\n",
    "FILEPATH = os.path.join(DATA_DIR, FILENAME)\n",
    "\n",
    "df = pd.read_csv(FILEPATH)\n",
    "\n",
    "# Apply same cleaning logic as your script\n",
    "def clean_column_name(col):\n",
    "    import re\n",
    "    col = col.strip().lower()\n",
    "    col = col.replace('%', 'pct').replace('&', 'and')\n",
    "    col = col.replace('s&p', 'sandp').replace('-', '_').replace('`', '')\n",
    "    col = re.sub(r'[()\\\\/]', '', col)\n",
    "    col = re.sub(r'\\s+', '_', col)\n",
    "    col = re.sub(r'__+', '_', col)\n",
    "    if col and col[0].isdigit():\n",
    "        col = f\"_{col}\"\n",
    "    return col\n",
    "\n",
    "def deduplicate_columns(cols):\n",
    "    seen = {}\n",
    "    new_cols = []\n",
    "    for col in cols:\n",
    "        if col not in seen:\n",
    "            seen[col] = 1\n",
    "            new_cols.append(col)\n",
    "        else:\n",
    "            new_name = f\"{col}_{seen[col]}\"\n",
    "            seen[col] += 1\n",
    "            new_cols.append(new_name)\n",
    "    return new_cols\n",
    "\n",
    "df.columns = deduplicate_columns([clean_column_name(c) for c in df.columns])\n",
    "print(df.columns.tolist())\n",
    "\n",
    "print(\"\\n🧾 Cleaned DataFrame Columns:\")\n",
    "print(df.columns.tolist())"
   ],
   "id": "7b3bf2273002f50a",
   "outputs": [
    {
     "name": "stdout",
     "output_type": "stream",
     "text": [
      "['company_name', 'ticker', 'market_cap_mil', 'exchange', 'month_of_fiscal_yr_end', 'sector', 'industry', 'optionable', 'shares_outstanding_mil', 'last_close', 'last_yrs_eps_f0_before_nri', 'last_reported_fiscal_yr_yyyymm', 'f1_consensus_est.', 'f2_consensus_est.', 'beta', 'current_assets_$mil', 'intangibles_$mil', 'inventory_$mil', 'receivables_$mil', 'current_liabilities_$mil', 'long_term_debt_$mil', 'preferred_equity_$mil', 'common_equity_$mil', 'book_value', 'debttotal_capital', 'debtequity_ratio', 'current_ratio', 'quick_ratio', 'cash_ratio', 'sandp_500_etf', 'avg_volume', '_52_week_high', '_52_week_low', 'pct_price_change_1_week', 'pct_price_change_4_weeks', 'pct_price_change_12_weeks', 'pct_price_change_ytd', '_12_mo_trailing_eps', 'last_qtr_eps', 'last_eps_report_date_yyyymmdd', 'next_eps_report_date_yyyymmdd', 'last_reported_qtr_yyyymm', 'actual_eps_used_in_surprise_$sh', 'avg_eps_surprise_last_4_qtrs', 'previous_eps_surprise_pct', 'last_eps_surprise_pct', 'average_target_price', 'pct_rating_downgrades', 'pct_rating_upgrades', 'pct_rating_hold', '#_rating_downgrades', '#_rating_upgrades', 'change_in_avg_rec', 'rank_in_industry_of_abr', 'industry_rank_of_abr', 'pct_rating_change_4_weeks', 'pct_rating_strong_sell_or_sell', '#_rating_strong_sell_or_sell', '#_rating_hold', 'pct_rating_strong_buy_or_buy', '#_rating_strong_buy_or_buy', '#_of_brokers_in_rating', 'current_avg_broker_rec', 'pe_f1', 'pct_change_f1_est._4_weeks', 'div._yield_pct', 'price_as_a_pct_of_52_wk_h_l_range', 'relative_price_change_ytd', 'pct_change_q0_est._4_weeks', 'pct_change_q1_est._4_weeks', 'pct_change_q2_est._4_weeks', 'pct_change_lt_growth_est._4_weeks', 'pct_change_f2_est._4_weeks', 'q0_consensus_est._last_completed_fiscal_qtr', '#_of_analysts_in_q0_consensus', 'q1_consensus_est.', '#_of_analysts_in_q1_consensus', 'q2_consensus_est._next_fiscal_qtr', 'st._dev._q1_q1_consensus', '#_of_analysts_in_q2_consensus', 'f0_consensus_est.', 'st._dev._q2_q2_consensus', '#_of_analysts_in_f0_consensus', '#_of_analysts_in_f1_consensus', 'st._dev._f1_f1_consensus', '#_of_analysts_in_f2_consensus', '_5_yr._hist._eps_growth', 'long_term_growth_consensus_est.', 'pct_change_eps_f_1f_2', 'last_yrs_growth_f0f_1', 'this_yrs_est.d_growth_f1f0', 'pct_ratio_of_q1q0', 'pct_ratio_of_q1prior_yr_q1_actual_q_3', 'sales_growth_f0f_1', '_5_yr_historical_sales_growth', 'f1_consensus_sales_est._$mil', 'q1_consensus_sales_est._$mil', 'pe_trailing_12_months', 'pe_f2', 'peg_ratio', 'pricecash_flow', 'pricebook', 'pricesales', 'current_roe_ttm', 'current_roi_ttm', 'roi_5_yr_avg', 'current_roa_ttm', 'roa_5_yr_avg', 'market_value#_analysts', 'annual_sales_$mil', 'cost_of_goods_sold_$mil', 'ebitda_$mil', 'ebit_$mil', 'pretax_income_$mil', 'net_income_$mil', 'cash_flow_$mil', 'net_income_growth_f0f_1', '_12_mo._net_income_currentlast_pct', '_12_mo._net_income_current_1qlast_1q_pct', '_5_yr_div._yield_pct', '_5_yr_hist._div._growth_pct', 'dividend', 'net_margin_pct', 'operating_margin_12_mo_pct', 'turnover', 'inventory_turnover', 'asset_utilization']\n"
     ]
    }
   ],
   "execution_count": 4
  },
  {
   "metadata": {
    "ExecuteTime": {
     "end_time": "2025-03-30T00:31:13.831677Z",
     "start_time": "2025-03-30T00:31:13.823213Z"
    }
   },
   "cell_type": "code",
   "source": [
    "print(\"\\n🧾 Cleaned DataFrame Columns:\")\n",
    "print(df.columns.tolist())"
   ],
   "id": "fecfc851d9d67363",
   "outputs": [
    {
     "name": "stdout",
     "output_type": "stream",
     "text": [
      "\n",
      "🧾 Cleaned DataFrame Columns:\n",
      "['company_name', 'ticker', 'market_cap_mil', 'exchange', 'month_of_fiscal_yr_end', 'sector', 'industry', 'optionable', 'shares_outstanding_mil', 'last_close', 'last_yrs_eps_f0_before_nri', 'last_reported_fiscal_yr_yyyymm', 'f1_consensus_est.', 'f2_consensus_est.', 'beta', 'current_assets_$mil', 'intangibles_$mil', 'inventory_$mil', 'receivables_$mil', 'current_liabilities_$mil', 'long_term_debt_$mil', 'preferred_equity_$mil', 'common_equity_$mil', 'book_value', 'debttotal_capital', 'debtequity_ratio', 'current_ratio', 'quick_ratio', 'cash_ratio', 'sandp_500_etf', 'avg_volume', '_52_week_high', '_52_week_low', 'pct_price_change_1_week', 'pct_price_change_4_weeks', 'pct_price_change_12_weeks', 'pct_price_change_ytd', '_12_mo_trailing_eps', 'last_qtr_eps', 'last_eps_report_date_yyyymmdd', 'next_eps_report_date_yyyymmdd', 'last_reported_qtr_yyyymm', 'actual_eps_used_in_surprise_$sh', 'avg_eps_surprise_last_4_qtrs', 'previous_eps_surprise_pct', 'last_eps_surprise_pct', 'average_target_price', 'pct_rating_downgrades', 'pct_rating_upgrades', 'pct_rating_hold', '#_rating_downgrades', '#_rating_upgrades', 'change_in_avg_rec', 'rank_in_industry_of_abr', 'industry_rank_of_abr', 'pct_rating_change_4_weeks', 'pct_rating_strong_sell_or_sell', '#_rating_strong_sell_or_sell', '#_rating_hold', 'pct_rating_strong_buy_or_buy', '#_rating_strong_buy_or_buy', '#_of_brokers_in_rating', 'current_avg_broker_rec', 'pe_f1', 'pct_change_f1_est._4_weeks', 'div._yield_pct', 'price_as_a_pct_of_52_wk_h_l_range', 'relative_price_change_ytd', 'pct_change_q0_est._4_weeks', 'pct_change_q1_est._4_weeks', 'pct_change_q2_est._4_weeks', 'pct_change_lt_growth_est._4_weeks', 'pct_change_f2_est._4_weeks', 'q0_consensus_est._last_completed_fiscal_qtr', '#_of_analysts_in_q0_consensus', 'q1_consensus_est.', '#_of_analysts_in_q1_consensus', 'q2_consensus_est._next_fiscal_qtr', 'st._dev._q1_q1_consensus', '#_of_analysts_in_q2_consensus', 'f0_consensus_est.', 'st._dev._q2_q2_consensus', '#_of_analysts_in_f0_consensus', '#_of_analysts_in_f1_consensus', 'st._dev._f1_f1_consensus', '#_of_analysts_in_f2_consensus', '_5_yr._hist._eps_growth', 'long_term_growth_consensus_est.', 'pct_change_eps_f_1f_2', 'last_yrs_growth_f0f_1', 'this_yrs_est.d_growth_f1f0', 'pct_ratio_of_q1q0', 'pct_ratio_of_q1prior_yr_q1_actual_q_3', 'sales_growth_f0f_1', '_5_yr_historical_sales_growth', 'f1_consensus_sales_est._$mil', 'q1_consensus_sales_est._$mil', 'pe_trailing_12_months', 'pe_f2', 'peg_ratio', 'pricecash_flow', 'pricebook', 'pricesales', 'current_roe_ttm', 'current_roi_ttm', 'roi_5_yr_avg', 'current_roa_ttm', 'roa_5_yr_avg', 'market_value#_analysts', 'annual_sales_$mil', 'cost_of_goods_sold_$mil', 'ebitda_$mil', 'ebit_$mil', 'pretax_income_$mil', 'net_income_$mil', 'cash_flow_$mil', 'net_income_growth_f0f_1', '_12_mo._net_income_currentlast_pct', '_12_mo._net_income_current_1qlast_1q_pct', '_5_yr_div._yield_pct', '_5_yr_hist._div._growth_pct', 'dividend', 'net_margin_pct', 'operating_margin_12_mo_pct', 'turnover', 'inventory_turnover', 'asset_utilization']\n"
     ]
    }
   ],
   "execution_count": 5
  },
  {
   "metadata": {
    "ExecuteTime": {
     "end_time": "2025-03-30T00:53:58.020254Z",
     "start_time": "2025-03-30T00:53:57.907858Z"
    }
   },
   "cell_type": "code",
   "source": "df.columns()",
   "id": "29f25688222ace4b",
   "outputs": [
    {
     "ename": "TypeError",
     "evalue": "'Index' object is not callable",
     "output_type": "error",
     "traceback": [
      "\u001B[31m---------------------------------------------------------------------------\u001B[39m",
      "\u001B[31mTypeError\u001B[39m                                 Traceback (most recent call last)",
      "\u001B[36mCell\u001B[39m\u001B[36m \u001B[39m\u001B[32mIn[6]\u001B[39m\u001B[32m, line 1\u001B[39m\n\u001B[32m----> \u001B[39m\u001B[32m1\u001B[39m \u001B[43mdf\u001B[49m\u001B[43m.\u001B[49m\u001B[43mcolumns\u001B[49m\u001B[43m(\u001B[49m\u001B[43m)\u001B[49m\n",
      "\u001B[31mTypeError\u001B[39m: 'Index' object is not callable"
     ]
    }
   ],
   "execution_count": 6
  },
  {
   "metadata": {
    "ExecuteTime": {
     "end_time": "2025-03-30T00:54:06.666920Z",
     "start_time": "2025-03-30T00:54:06.655193Z"
    }
   },
   "cell_type": "code",
   "source": "df.columns",
   "id": "62c29dfb9bbdaa2b",
   "outputs": [
    {
     "data": {
      "text/plain": [
       "Index(['company_name', 'ticker', 'market_cap_mil', 'exchange',\n",
       "       'month_of_fiscal_yr_end', 'sector', 'industry', 'optionable',\n",
       "       'shares_outstanding_mil', 'last_close',\n",
       "       ...\n",
       "       '_12_mo._net_income_currentlast_pct',\n",
       "       '_12_mo._net_income_current_1qlast_1q_pct', '_5_yr_div._yield_pct',\n",
       "       '_5_yr_hist._div._growth_pct', 'dividend', 'net_margin_pct',\n",
       "       'operating_margin_12_mo_pct', 'turnover', 'inventory_turnover',\n",
       "       'asset_utilization'],\n",
       "      dtype='object', length=127)"
      ]
     },
     "execution_count": 7,
     "metadata": {},
     "output_type": "execute_result"
    }
   ],
   "execution_count": 7
  },
  {
   "metadata": {},
   "cell_type": "code",
   "outputs": [],
   "execution_count": null,
   "source": "",
   "id": "ec2b2f51dae6e53b"
  }
 ],
 "metadata": {
  "kernelspec": {
   "display_name": "Python 3 (ipykernel)",
   "language": "python",
   "name": "python3"
  },
  "language_info": {
   "codemirror_mode": {
    "name": "ipython",
    "version": 3
   },
   "file_extension": ".py",
   "mimetype": "text/x-python",
   "name": "python",
   "nbconvert_exporter": "python",
   "pygments_lexer": "ipython3",
   "version": "3.13.2"
  }
 },
 "nbformat": 4,
 "nbformat_minor": 5
}
