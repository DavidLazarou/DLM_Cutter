{
 "cells": [
  {
   "metadata": {},
   "cell_type": "markdown",
   "source": "",
   "id": "40e69e1c40c63b86"
  },
  {
   "metadata": {},
   "cell_type": "markdown",
   "source": [
    "Consider the minimum variance portfolio with a target return m.\n",
    "\n",
    "$$\n",
    "\\begin{aligned}\n",
    "\\min_{\\mathbf{w}} \\quad & \\frac{1}{2} \\mathbf{w}^\\top \\Sigma \\mathbf{w} \\\\\n",
    "\\text{s.t.} \\quad & \\mathbf{w}^\\top \\mathbf{1} = 1 \\quad \\text{(budget constraint)} \\\\\n",
    "& \\mathbf{w}^\\top \\boldsymbol{\\mu} = m \\quad \\text{(target portfolio return)}\n",
    "\\end{aligned}\n",
    "$$\n",
    "\n",
    "a) Formulate the Lagrangian and give partial derivatives\n",
    "\n",
    "The Lagrangian function is formed using two Lagrange multipliers:\n",
    "\n",
    "- $\\lambda_1$ for the budget constraint\n",
    "- $\\lambda_2$ for the target return constraint\n",
    "\n",
    "$$\n",
    "\\mathcal{L}(\\mathbf{w}, \\lambda_1, \\lambda_2) =\n",
    "\\frac{1}{2} \\mathbf{w}^\\top \\Sigma \\mathbf{w}\n",
    "- \\lambda_1 (\\mathbf{w}^\\top \\mathbf{1} - 1)\n",
    "- \\lambda_2 (\\mathbf{w}^\\top \\boldsymbol{\\mu} - m)\n",
    "$$\n",
    "\n",
    "And the partial derivatives of the Lagrangian are:\n",
    "\n",
    "$$\n",
    "\\frac{\\partial \\mathcal{L}}{\\partial \\mathbf{w}} = \\Sigma \\mathbf{w} - \\lambda_1 \\mathbf{1} - \\lambda_2 \\boldsymbol{\\mu}\n",
    "$$\n",
    "\n",
    "$$\n",
    "\\frac{\\partial \\mathcal{L}}{\\partial \\lambda_1} = 1 - \\mathbf{w}^\\top \\mathbf{1}\n",
    "$$\n",
    "\n",
    "$$\n",
    "\\frac{\\partial \\mathcal{L}}{\\partial \\lambda_2} = m - \\mathbf{w}^\\top \\boldsymbol{\\mu}\n",
    "$$\n",
    "b) Write down the analytical solution for **$\\mathbf{w}^\\star$** optimal allocations — no derivation required\n",
    "\n",
    "Let:\n",
    "\n",
    "- $A = \\mathbf{1}^\\top \\Sigma^{-1} \\mathbf{1}$\n",
    "- $B = \\mathbf{1}^\\top \\Sigma^{-1} \\boldsymbol{\\mu}$\n",
    "- $C = \\boldsymbol{\\mu}^\\top \\Sigma^{-1} \\boldsymbol{\\mu}$\n",
    "- $\\Delta = AC - B^2$\n",
    "\n",
    "Then the optimal allocation is:\n",
    "\n",
    "$$\n",
    "\\mathbf{w}^\\star = \\Sigma^{-1} \\left( \\frac{C - mB}{\\Delta} \\mathbf{1} + \\frac{mA - B}{\\Delta} \\boldsymbol{\\mu} \\right)\n",
    "$$"
   ],
   "id": "d1c7444c2001cbb9"
  },
  {
   "metadata": {},
   "cell_type": "code",
   "outputs": [],
   "execution_count": null,
   "source": "",
   "id": "c3ee865e40efed15"
  },
  {
   "metadata": {},
   "cell_type": "markdown",
   "source": [
    "c) Compute allocations **$\\mathbf{w}^\\star$** and portfolio risk **$\\sigma_\\Pi$** for target return **$m = 4.5\\%$**\n",
    "\n",
    "Given:\n",
    "\n",
    "- Expected returns:\n",
    "  $\\boldsymbol{\\mu} = \\begin{bmatrix} 0.02 \\\\ 0.07 \\\\ 0.15 \\\\ 0.20 \\end{bmatrix}$\n",
    "\n",
    "- Standard deviations:\n",
    "  $\\boldsymbol{\\sigma} = \\begin{bmatrix} 0.05 \\\\ 0.12 \\\\ 0.17 \\\\ 0.25 \\end{bmatrix}$\n",
    "\n",
    "- Correlation matrix $\\mathbf{R}$:\n",
    "  $\\begin{bmatrix}\n",
    "  1 & 0.3 & 0.3 & 0.3 \\\\\n",
    "  0.3 & 1 & 0.6 & 0.6 \\\\\n",
    "  0.3 & 0.6 & 1 & 0.6 \\\\\n",
    "  0.3 & 0.6 & 0.6 & 1\n",
    "  \\end{bmatrix}$\n",
    "\n",
    "\n",
    "The covariance matrix is computed as:\n",
    "$\\Sigma_{ij} = \\rho_{ij} \\cdot \\sigma_i \\cdot \\sigma_j$\n",
    "\n",
    "Then using the analytical solution:\n",
    "$\\mathbf{w}^\\star = \\Sigma^{-1} \\left( \\frac{C - mB}{\\Delta} \\mathbf{1} + \\frac{mA - B}{\\Delta} \\boldsymbol{\\mu} \\right)$\n",
    "\n",
    "We compute:\n",
    "\n",
    "- Optimal allocation vector $\\mathbf{w}^\\star$\n",
    "- Portfolio risk:\n",
    "  $\\sigma_\\Pi = \\sqrt{ \\mathbf{w}^{\\star \\top} \\Sigma \\mathbf{w}^\\star }$\n"
   ],
   "id": "b5eb930e922628b3"
  },
  {
   "metadata": {
    "ExecuteTime": {
     "end_time": "2025-04-01T18:06:41.240764Z",
     "start_time": "2025-04-01T18:06:41.228945Z"
    }
   },
   "cell_type": "code",
   "source": [
    "import numpy as np\n",
    "\n",
    "# Target return\n",
    "m = 0.045\n",
    "\n",
    "# Expected returns vector\n",
    "mu = np.array([0.02, 0.07, 0.15, 0.20])\n",
    "\n",
    "# Standard deviations\n",
    "sigma = np.array([0.05, 0.12, 0.17, 0.25])\n",
    "\n",
    "# Correlation matrix\n",
    "R = np.array([\n",
    "    [1.0, 0.3, 0.3, 0.3],\n",
    "    [0.3, 1.0, 0.6, 0.6],\n",
    "    [0.3, 0.6, 1.0, 0.6],\n",
    "    [0.3, 0.6, 0.6, 1.0]\n",
    "])\n",
    "\n",
    "# Covariance matrix: Sigma = diag(sigma) * R * diag(sigma)\n",
    "Sigma = np.outer(sigma, sigma) * R\n",
    "\n",
    "# Precompute inverse of covariance matrix\n",
    "Sigma_inv = np.linalg.inv(Sigma)\n",
    "\n",
    "# Convenience vectors\n",
    "ones = np.ones_like(mu)\n",
    "\n",
    "# Compute scalar quantities A, B, C, Delta\n",
    "A = ones.T @ Sigma_inv @ ones\n",
    "B = ones.T @ Sigma_inv @ mu\n",
    "C = mu.T @ Sigma_inv @ mu\n",
    "Delta = A * C - B**2\n",
    "\n",
    "# Lagrange multipliers\n",
    "lambda_1 = (C - m * B) / Delta\n",
    "lambda_2 = (m * A - B) / Delta\n",
    "\n",
    "# Optimal portfolio weights\n",
    "w_star = Sigma_inv @ (lambda_1 * ones + lambda_2 * mu)\n",
    "\n",
    "# Portfolio risk\n",
    "portfolio_variance = w_star.T @ Sigma @ w_star\n",
    "portfolio_std = np.sqrt(portfolio_variance)\n",
    "\n",
    "# Print results\n",
    "print(\"Optimal weights w* =\", np.round(w_star, 4))\n",
    "print(\"Portfolio expected return =\", round(w_star @ mu, 4))\n",
    "print(\"Portfolio standard deviation (σΠ) =\", round(portfolio_std, 4))\n"
   ],
   "id": "44feba2ee1f191f7",
   "outputs": [
    {
     "name": "stdout",
     "output_type": "stream",
     "text": [
      "Optimal weights w* = [0.7851 0.0539 0.1336 0.0275]\n",
      "Portfolio expected return = 0.045\n",
      "Portfolio standard deviation (σΠ) = 0.0584\n"
     ]
    }
   ],
   "execution_count": 4
  },
  {
   "metadata": {
    "ExecuteTime": {
     "end_time": "2025-04-01T18:03:51.868223Z",
     "start_time": "2025-04-01T18:03:51.866185Z"
    }
   },
   "cell_type": "code",
   "source": "",
   "id": "d5197eed93bb1866",
   "outputs": [],
   "execution_count": null
  },
  {
   "metadata": {},
   "cell_type": "code",
   "outputs": [],
   "execution_count": null,
   "source": "",
   "id": "b30a9054368e0547"
  }
 ],
 "metadata": {
  "kernelspec": {
   "display_name": "Python 3",
   "language": "python",
   "name": "python3"
  },
  "language_info": {
   "codemirror_mode": {
    "name": "ipython",
    "version": 2
   },
   "file_extension": ".py",
   "mimetype": "text/x-python",
   "name": "python",
   "nbconvert_exporter": "python",
   "pygments_lexer": "ipython2",
   "version": "2.7.6"
  }
 },
 "nbformat": 4,
 "nbformat_minor": 5
}
