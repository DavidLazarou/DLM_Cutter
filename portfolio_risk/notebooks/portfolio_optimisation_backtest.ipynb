{
 "cells": [
  {
   "metadata": {},
   "cell_type": "markdown",
   "source": "",
   "id": "40e69e1c40c63b86"
  },
  {
   "metadata": {},
   "cell_type": "markdown",
   "source": [
    "Consider the minimum variance portfolio with a target return m.\n",
    "\n",
    "$$\n",
    "\\begin{aligned}\n",
    "\\min_{\\mathbf{w}} \\quad & \\frac{1}{2} \\mathbf{w}^\\top \\Sigma \\mathbf{w} \\\\\n",
    "\\text{s.t.} \\quad & \\mathbf{w}^\\top \\mathbf{1} = 1 \\quad \\text{(budget constraint)} \\\\\n",
    "& \\mathbf{w}^\\top \\boldsymbol{\\mu} = m \\quad \\text{(target portfolio return)}\n",
    "\\end{aligned}\n",
    "$$\n",
    "\n",
    "a) Formulate the Lagrangian and give partial derivatives\n",
    "\n",
    "The Lagrangian function is formed using two Lagrange multipliers:\n",
    "\n",
    "- $\\lambda_1$ for the budget constraint\n",
    "- $\\lambda_2$ for the target return constraint\n",
    "\n",
    "$$\n",
    "\\mathcal{L}(\\mathbf{w}, \\lambda_1, \\lambda_2) =\n",
    "\\frac{1}{2} \\mathbf{w}^\\top \\Sigma \\mathbf{w}\n",
    "- \\lambda_1 (\\mathbf{w}^\\top \\mathbf{1} - 1)\n",
    "- \\lambda_2 (\\mathbf{w}^\\top \\boldsymbol{\\mu} - m)\n",
    "$$\n",
    "\n",
    "And the partial derivatives of the Lagrangian are:\n",
    "\n",
    "$$\n",
    "\\frac{\\partial \\mathcal{L}}{\\partial \\mathbf{w}} = \\Sigma \\mathbf{w} - \\lambda_1 \\mathbf{1} - \\lambda_2 \\boldsymbol{\\mu}\n",
    "$$\n",
    "\n",
    "$$\n",
    "\\frac{\\partial \\mathcal{L}}{\\partial \\lambda_1} = 1 - \\mathbf{w}^\\top \\mathbf{1}\n",
    "$$\n",
    "\n",
    "$$\n",
    "\\frac{\\partial \\mathcal{L}}{\\partial \\lambda_2} = m - \\mathbf{w}^\\top \\boldsymbol{\\mu}\n",
    "$$\n"
   ],
   "id": "d1c7444c2001cbb9"
  },
  {
   "metadata": {},
   "cell_type": "markdown",
   "source": "",
   "id": "c4c3519efdbc2a3f"
  }
 ],
 "metadata": {
  "kernelspec": {
   "display_name": "Python 3",
   "language": "python",
   "name": "python3"
  },
  "language_info": {
   "codemirror_mode": {
    "name": "ipython",
    "version": 2
   },
   "file_extension": ".py",
   "mimetype": "text/x-python",
   "name": "python",
   "nbconvert_exporter": "python",
   "pygments_lexer": "ipython2",
   "version": "2.7.6"
  }
 },
 "nbformat": 4,
 "nbformat_minor": 5
}
